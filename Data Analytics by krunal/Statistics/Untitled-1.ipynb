{
 "cells": [
  {
   "cell_type": "code",
   "execution_count": 7,
   "metadata": {},
   "outputs": [
    {
     "name": "stdout",
     "output_type": "stream",
     "text": [
      "hello\n"
     ]
    }
   ],
   "source": [
    "print('hello')"
   ]
  },
  {
   "cell_type": "code",
   "execution_count": 1,
   "metadata": {},
   "outputs": [
    {
     "name": "stdout",
     "output_type": "stream",
     "text": [
      "      Name  Age  Rating\n",
      "0      Tom   25    4.23\n",
      "1    James   26    3.24\n",
      "2    Ricky   25    3.98\n",
      "3      Vin   23    2.56\n",
      "4    Steve   30    3.20\n",
      "5    Smith   29    4.60\n",
      "6     Jack   23    3.80\n",
      "7      Lee   34    3.78\n",
      "8    David   40    2.98\n",
      "9   Gasper   30    4.80\n",
      "10  Betina   51    4.10\n",
      "11  Andres   46    3.65\n"
     ]
    }
   ],
   "source": [
    "import pandas as pd\n",
    "import numpy as np\n",
    "\n",
    "#Create a Dictionary of series\n",
    "d = {'Name':pd.Series(['Tom','James','Ricky','Vin','Steve','Smith','Jack',\n",
    "   'Lee','David','Gasper','Betina','Andres']),\n",
    "   'Age':pd.Series([25,26,25,23,30,29,23,34,40,30,51,46]),\n",
    "   'Rating':pd.Series([4.23,3.24,3.98,2.56,3.20,4.6,3.8,3.78,2.98,4.80,4.10,3.65])}\n",
    "\n",
    "#Create a DataFrame\n",
    "df = pd.DataFrame(d)\n",
    "print (df)"
   ]
  },
  {
   "cell_type": "code",
   "execution_count": 2,
   "metadata": {},
   "outputs": [
    {
     "name": "stdout",
     "output_type": "stream",
     "text": [
      "Name      TomJamesRickyVinSteveSmithJackLeeDavidGasperBe...\n",
      "Age                                                     382\n",
      "Rating                                                44.92\n",
      "dtype: object\n"
     ]
    }
   ],
   "source": [
    "import pandas as pd\n",
    "import numpy as np\n",
    "\n",
    "#Create a Dictionary of series\n",
    "d = {'Name':pd.Series(['Tom','James','Ricky','Vin','Steve','Smith','Jack',\n",
    "   'Lee','David','Gasper','Betina','Andres']),\n",
    "   'Age':pd.Series([25,26,25,23,30,29,23,34,40,30,51,46]),\n",
    "   'Rating':pd.Series([4.23,3.24,3.98,2.56,3.20,4.6,3.8,3.78,2.98,4.80,4.10,3.65])}\n",
    "\n",
    "#Create a DataFrame\n",
    "df = pd.DataFrame(d)\n",
    "print (df.sum())"
   ]
  },
  {
   "cell_type": "markdown",
   "metadata": {},
   "source": [
    "###### Python DataFrame.describe() Syntax\n",
    "Syntax: df[‘cname’].describe(percentiles = None, include = None, exclude = None)\n",
    "df.describe(percentiles = None, include = None, exclude = None)\n",
    "\n",
    "Parameters:\n",
    "\n",
    "percentiles: represents percentile value that has to be returned by the function. Default values are 0.25, 0.5 and 0.75 <br>\n",
    "include: represents list of data types that has to be included <br>\n",
    "exclude: represents list of data types that has to be excluded <br>\n",
    "Creating a Sample DataFrame<br>\n",
    "Here, we are making a sample Pandas DataFrame that we will use in the whole article to show descriptive statistics in Pandas and it’s calculation."
   ]
  },
  {
   "cell_type": "code",
   "execution_count": 6,
   "metadata": {},
   "outputs": [
    {
     "name": "stdout",
     "output_type": "stream",
     "text": [
      "Original DataFrame:\n",
      "   Product  Price  Year\n",
      "0  Mobile  20000  2014\n",
      "1      AC  28000  2015\n",
      "2  Mobile  22000  2016\n",
      "3    Sofa  19000  2017\n",
      "4  Laptop  45000  2018\n"
     ]
    }
   ],
   "source": [
    "# Import package \n",
    "from pandas import DataFrame \n",
    " \n",
    "# Create DataFrame \n",
    "cart = {'Product': ['Mobile', 'AC', 'Mobile', 'Sofa', 'Laptop'], \n",
    "        'Price': [20000, 28000, 22000, 19000, 45000], \n",
    "        'Year': [2014, 2015, 2016, 2017, 2018] \n",
    "        } \n",
    "df = DataFrame(cart, columns = ['Product', 'Price', 'Year']) \n",
    " \n",
    "# Original DataFrame \n",
    "print(\"Original DataFrame:\\n\", df) "
   ]
  },
  {
   "cell_type": "markdown",
   "metadata": {},
   "source": [
    "Get the Descriptive Statistics for Pandas DataFrame<br>\n",
    "Below are the examples from which we can understand about descriptive statistics in Pandas in Python:<br>\n",
    "\n",
    "Descriptive Statistics in Pandas of Price Column <br>\n",
    "Descriptive Statistics in Pandas of Year Column <br>\n",
    "Descriptive Statistics of Whole DataFrame <br>\n",
    "Descriptive Statistics in Pandas of Data Individually <br><br><br>\n",
    "Descriptive Statistics in Pandas of Price Column <br>\n",
    "In this example, a DataFrame is created with product details, prices, and years. Descriptive statistics, including count, mean, and standard deviation of the ‘Price’ column, are then computed and displayed using describe() method."
   ]
  },
  {
   "cell_type": "code",
   "execution_count": 7,
   "metadata": {},
   "outputs": [
    {
     "name": "stdout",
     "output_type": "stream",
     "text": [
      "\n",
      "Descriptive statistics of Price:\n",
      "\n",
      "count        5.000000\n",
      "mean     26800.000000\n",
      "std      10756.393448\n",
      "min      19000.000000\n",
      "25%      20000.000000\n",
      "50%      22000.000000\n",
      "75%      28000.000000\n",
      "max      45000.000000\n",
      "Name: Price, dtype: float64\n"
     ]
    }
   ],
   "source": [
    "# Describing descriptive statistics of Price\n",
    "print(\"\\nDescriptive statistics of Price:\\n\")\n",
    "stats = df['Price'].describe()\n",
    "print(stats)\n"
   ]
  },
  {
   "cell_type": "markdown",
   "metadata": {},
   "source": [
    "Descriptive Statistics in Pandas of Year Column<br><br>\n",
    "In this example, a DataFrame is created to represent products with their prices and respective years. The descriptive statistics, such as count, mean, and standard deviation of the ‘Year’ column, are computed and printed."
   ]
  },
  {
   "cell_type": "code",
   "execution_count": 8,
   "metadata": {},
   "outputs": [
    {
     "name": "stdout",
     "output_type": "stream",
     "text": [
      "\n",
      "Descriptive statistics of year:\n",
      "\n",
      "count       5.000000\n",
      "mean     2016.000000\n",
      "std         1.581139\n",
      "min      2014.000000\n",
      "25%      2015.000000\n",
      "50%      2016.000000\n",
      "75%      2017.000000\n",
      "max      2018.000000\n",
      "Name: Year, dtype: float64\n"
     ]
    }
   ],
   "source": [
    "# Describing descriptive statistics of Year\n",
    "print(\"\\nDescriptive statistics of year:\\n\")\n",
    "stats = df['Year'].describe()\n",
    "print(stats)\n"
   ]
  },
  {
   "cell_type": "markdown",
   "metadata": {},
   "source": [
    "Descriptive Statistics of Whole DataFrame <br><br>\n",
    "In this example, a DataFrame is constructed with product details, prices, and years. The entire DataFrame’s descriptive statistics, encompassing all columns, are computed and displayed, including count, unique values, top value, and frequency for categorical columns, and mean, standard deviation, and quartile information for numerical columns."
   ]
  },
  {
   "cell_type": "code",
   "execution_count": 9,
   "metadata": {},
   "outputs": [
    {
     "name": "stdout",
     "output_type": "stream",
     "text": [
      "\n",
      "Descriptive statistics of whole dataframe:\n",
      "\n",
      "       Product         Price         Year\n",
      "count        5      5.000000     5.000000\n",
      "unique       4           NaN          NaN\n",
      "top     Mobile           NaN          NaN\n",
      "freq         2           NaN          NaN\n",
      "mean       NaN  26800.000000  2016.000000\n",
      "std        NaN  10756.393448     1.581139\n",
      "min        NaN  19000.000000  2014.000000\n",
      "25%        NaN  20000.000000  2015.000000\n",
      "50%        NaN  22000.000000  2016.000000\n",
      "75%        NaN  28000.000000  2017.000000\n",
      "max        NaN  45000.000000  2018.000000\n"
     ]
    }
   ],
   "source": [
    "# Describing descriptive statistics of whole dataframe\n",
    "print(\"\\nDescriptive statistics of whole dataframe:\\n\")\n",
    "stats = df.describe(include='all')\n",
    "print(stats)\n"
   ]
  },
  {
   "cell_type": "markdown",
   "metadata": {},
   "source": [
    "Descriptive Statistics in Pandas of Data Individually<br><br>\n",
    "Let’s print all the descriptive statistical data individually. In this example, a DataFrame named df is created containing product names, their respective prices, and purchase years. Various statistics related to the ‘Price’ column, such as count, mean, maximum value, and standard deviation, are calculated and printed."
   ]
  },
  {
   "cell_type": "code",
   "execution_count": 11,
   "metadata": {},
   "outputs": [
    {
     "name": "stdout",
     "output_type": "stream",
     "text": [
      "\n",
      "Count of Price:\n",
      "5\n",
      "\n",
      "Mean of Price:\n",
      "26800.0\n",
      "\n",
      "Maximum value of Price:\n",
      "45000\n",
      "\n",
      "Standard deviation of Price:\n",
      "10756.393447619885\n"
     ]
    }
   ],
   "source": [
    "# Count of Price\n",
    "print(\"\\nCount of Price:\")\n",
    "counts = df['Price'].count()\n",
    "print(counts)\n",
    "\n",
    "# Mean of Price\n",
    "print(\"\\nMean of Price:\")\n",
    "m = df['Price'].mean()\n",
    "print(m)\n",
    "\n",
    "# Maximum value of Price\n",
    "print(\"\\nMaximum value of Price:\")\n",
    "mx = df['Price'].max()\n",
    "print(mx)\n",
    "\n",
    "# Standard deviation of Price\n",
    "print(\"\\nStandard deviation of Price:\")\n",
    "sd = df['Price'].std()\n",
    "print(sd)\n"
   ]
  }
 ],
 "metadata": {
  "kernelspec": {
   "display_name": "Python 3",
   "language": "python",
   "name": "python3"
  },
  "language_info": {
   "codemirror_mode": {
    "name": "ipython",
    "version": 3
   },
   "file_extension": ".py",
   "mimetype": "text/x-python",
   "name": "python",
   "nbconvert_exporter": "python",
   "pygments_lexer": "ipython3",
   "version": "3.12.1"
  }
 },
 "nbformat": 4,
 "nbformat_minor": 2
}
