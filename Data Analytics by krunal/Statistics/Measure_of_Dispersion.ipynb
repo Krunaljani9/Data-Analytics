{
 "cells": [
  {
   "cell_type": "markdown",
   "metadata": {},
   "source": [
    "#### Measure of Dispersion"
   ]
  },
  {
   "cell_type": "markdown",
   "metadata": {},
   "source": [
    "#### Range \n",
    "\n",
    "Range=Max - Min"
   ]
  },
  {
   "cell_type": "code",
   "execution_count": 6,
   "metadata": {},
   "outputs": [
    {
     "name": "stdout",
     "output_type": "stream",
     "text": [
      "Max value  35\n",
      "Min value  7\n",
      "Range is  28\n"
     ]
    }
   ],
   "source": [
    "import numpy as np\n",
    "A=np.array([13,20,7,15,29,35])\n",
    "print(\"Max value \",max(A))\n",
    "print(\"Min value \",min(A))\n",
    "a=max(A)-min(A)\n",
    "print(\"Range is \",a)"
   ]
  },
  {
   "cell_type": "markdown",
   "metadata": {},
   "source": [
    "#### Co efficient of Range \n",
    "Co of range = L-S/L+S * 100"
   ]
  },
  {
   "cell_type": "code",
   "execution_count": 11,
   "metadata": {},
   "outputs": [
    {
     "name": "stdout",
     "output_type": "stream",
     "text": [
      "Max value  35\n",
      "Min value  7\n",
      "Co efficent of Range is  66.67\n"
     ]
    }
   ],
   "source": [
    "import numpy as np\n",
    "import statistics\n",
    "A=np.array([13,20,7,15,29,35])\n",
    "print(\"Max value \",max(A))\n",
    "print(\"Min value \",min(A))\n",
    "a=max(A)-min(A)\n",
    "b=max(A)+min(A)\n",
    "c=a/b*100\n",
    "\n",
    "print(\"Co efficent of Range is \",round(c,2))"
   ]
  },
  {
   "cell_type": "markdown",
   "metadata": {},
   "source": [
    "<b>Quartile Deviation: </b><br>\n",
    "QD=Q3-Q1/2<br>\n",
    "Q1=[(n+1)/4]th term<br>\n",
    "Q3=3*[(n+1)/4]th term<br>\n"
   ]
  },
  {
   "cell_type": "code",
   "execution_count": 21,
   "metadata": {},
   "outputs": [
    {
     "name": "stdout",
     "output_type": "stream",
     "text": [
      "0    20\n",
      "1    30\n",
      "2    40\n",
      "3    50\n",
      "4    10\n",
      "dtype: int64\n",
      "50% 30.0\n",
      "25% 20.0\n",
      "75% 40.0\n"
     ]
    }
   ],
   "source": [
    "#finding 25 percentile\n",
    "import pandas as pd\n",
    "a=pd.Series([20,30,40,50,10]) # 10 20 30 40 50  \n",
    "print(a)\n",
    "print(\"50%\",a.quantile())\n",
    "print(\"25%\",a.quantile(q=0.25))\n",
    "print(\"75%\",a.quantile(q=0.75))"
   ]
  },
  {
   "cell_type": "markdown",
   "metadata": {},
   "source": [
    "### Standard Daviation\n",
    "\n"
   ]
  },
  {
   "cell_type": "code",
   "execution_count": 24,
   "metadata": {},
   "outputs": [
    {
     "name": "stdout",
     "output_type": "stream",
     "text": [
      "0     9\n",
      "1    13\n",
      "2    11\n",
      "3    12\n",
      "4    10\n",
      "dtype: int64\n",
      "1.5811388300841898\n"
     ]
    }
   ],
   "source": [
    "import pandas as pd\n",
    "# a=pd.Series([20,30,40,50,10])\n",
    "a=pd.Series([9,13,11,12,10])\n",
    "print(a)\n",
    "print(a.std())"
   ]
  },
  {
   "cell_type": "markdown",
   "metadata": {},
   "source": [
    "### Variance\n",
    "Square of Standard Deviation"
   ]
  },
  {
   "cell_type": "code",
   "execution_count": 1,
   "metadata": {},
   "outputs": [
    {
     "name": "stdout",
     "output_type": "stream",
     "text": [
      "0     9\n",
      "1    13\n",
      "2    11\n",
      "3    12\n",
      "4    10\n",
      "dtype: int64\n",
      "2.5\n"
     ]
    }
   ],
   "source": [
    "import pandas as pd\n",
    "# a=pd.Series([20,30,40,50,10])\n",
    "a=pd.Series([9,13,11,12,10])\n",
    "print(a)\n",
    "print(a.var())"
   ]
  }
 ],
 "metadata": {
  "kernelspec": {
   "display_name": "Python 3",
   "language": "python",
   "name": "python3"
  },
  "language_info": {
   "codemirror_mode": {
    "name": "ipython",
    "version": 3
   },
   "file_extension": ".py",
   "mimetype": "text/x-python",
   "name": "python",
   "nbconvert_exporter": "python",
   "pygments_lexer": "ipython3",
   "version": "3.12.1"
  }
 },
 "nbformat": 4,
 "nbformat_minor": 2
}
