{
 "cells": [
  {
   "cell_type": "code",
   "execution_count": 2,
   "metadata": {},
   "outputs": [],
   "source": [
    "import datetime as dt\n",
    "import talib as ta\n",
    "import numpy as np\n",
    "import matplotlib.pyplot as plt\n",
    "import pandas_datareader as web\n",
    "import pandas as pd"
   ]
  },
  {
   "cell_type": "code",
   "execution_count": 3,
   "metadata": {},
   "outputs": [
    {
     "data": {
      "text/html": [
       "<div>\n",
       "<style scoped>\n",
       "    .dataframe tbody tr th:only-of-type {\n",
       "        vertical-align: middle;\n",
       "    }\n",
       "\n",
       "    .dataframe tbody tr th {\n",
       "        vertical-align: top;\n",
       "    }\n",
       "\n",
       "    .dataframe thead th {\n",
       "        text-align: right;\n",
       "    }\n",
       "</style>\n",
       "<table border=\"1\" class=\"dataframe\">\n",
       "  <thead>\n",
       "    <tr style=\"text-align: right;\">\n",
       "      <th></th>\n",
       "      <th>Date</th>\n",
       "      <th>series</th>\n",
       "      <th>OPEN</th>\n",
       "      <th>HIGH</th>\n",
       "      <th>LOW</th>\n",
       "      <th>PREV. CLOSE</th>\n",
       "      <th>ltp</th>\n",
       "      <th>close</th>\n",
       "      <th>vwap</th>\n",
       "      <th>52W H</th>\n",
       "      <th>52W L</th>\n",
       "      <th>VOLUME</th>\n",
       "      <th>VALUE</th>\n",
       "      <th>No of trades</th>\n",
       "    </tr>\n",
       "  </thead>\n",
       "  <tbody>\n",
       "    <tr>\n",
       "      <th>0</th>\n",
       "      <td>28-Mar-2024</td>\n",
       "      <td>EQ</td>\n",
       "      <td>2,985.75</td>\n",
       "      <td>3,011.90</td>\n",
       "      <td>2,957.30</td>\n",
       "      <td>2,985.70</td>\n",
       "      <td>2,970.30</td>\n",
       "      <td>2,971.70</td>\n",
       "      <td>2,988.81</td>\n",
       "      <td>3,024.90</td>\n",
       "      <td>2,220.30</td>\n",
       "      <td>1,09,27,182</td>\n",
       "      <td>32,65,92,43,942.20</td>\n",
       "      <td>2,89,271</td>\n",
       "    </tr>\n",
       "    <tr>\n",
       "      <th>1</th>\n",
       "      <td>27-Mar-2024</td>\n",
       "      <td>EQ</td>\n",
       "      <td>2,896.00</td>\n",
       "      <td>3,000.00</td>\n",
       "      <td>2,894.00</td>\n",
       "      <td>2,883.15</td>\n",
       "      <td>2,983.75</td>\n",
       "      <td>2,985.70</td>\n",
       "      <td>2,972.19</td>\n",
       "      <td>3,024.90</td>\n",
       "      <td>2,220.30</td>\n",
       "      <td>81,63,322</td>\n",
       "      <td>24,26,29,83,466.45</td>\n",
       "      <td>2,99,800</td>\n",
       "    </tr>\n",
       "    <tr>\n",
       "      <th>2</th>\n",
       "      <td>26-Mar-2024</td>\n",
       "      <td>EQ</td>\n",
       "      <td>2,890.00</td>\n",
       "      <td>2,904.80</td>\n",
       "      <td>2,878.00</td>\n",
       "      <td>2,910.05</td>\n",
       "      <td>2,886.70</td>\n",
       "      <td>2,883.15</td>\n",
       "      <td>2,887.28</td>\n",
       "      <td>3,024.90</td>\n",
       "      <td>2,220.30</td>\n",
       "      <td>57,07,953</td>\n",
       "      <td>16,48,04,30,505.15</td>\n",
       "      <td>1,74,805</td>\n",
       "    </tr>\n",
       "    <tr>\n",
       "      <th>3</th>\n",
       "      <td>22-Mar-2024</td>\n",
       "      <td>EQ</td>\n",
       "      <td>2,899.95</td>\n",
       "      <td>2,920.00</td>\n",
       "      <td>2,894.70</td>\n",
       "      <td>2,901.95</td>\n",
       "      <td>2,906.55</td>\n",
       "      <td>2,910.05</td>\n",
       "      <td>2,909.59</td>\n",
       "      <td>3,024.90</td>\n",
       "      <td>2,220.30</td>\n",
       "      <td>97,63,804</td>\n",
       "      <td>28,40,86,77,998.20</td>\n",
       "      <td>2,86,746</td>\n",
       "    </tr>\n",
       "  </tbody>\n",
       "</table>\n",
       "</div>"
      ],
      "text/plain": [
       "         Date  series      OPEN      HIGH       LOW  PREV. CLOSE       ltp   \\\n",
       "0  28-Mar-2024      EQ  2,985.75  3,011.90  2,957.30     2,985.70  2,970.30   \n",
       "1  27-Mar-2024      EQ  2,896.00  3,000.00  2,894.00     2,883.15  2,983.75   \n",
       "2  26-Mar-2024      EQ  2,890.00  2,904.80  2,878.00     2,910.05  2,886.70   \n",
       "3  22-Mar-2024      EQ  2,899.95  2,920.00  2,894.70     2,901.95  2,906.55   \n",
       "\n",
       "     close      vwap     52W H     52W L       VOLUME               VALUE   \\\n",
       "0  2,971.70  2,988.81  3,024.90  2,220.30  1,09,27,182  32,65,92,43,942.20   \n",
       "1  2,985.70  2,972.19  3,024.90  2,220.30    81,63,322  24,26,29,83,466.45   \n",
       "2  2,883.15  2,887.28  3,024.90  2,220.30    57,07,953  16,48,04,30,505.15   \n",
       "3  2,910.05  2,909.59  3,024.90  2,220.30    97,63,804  28,40,86,77,998.20   \n",
       "\n",
       "  No of trades   \n",
       "0      2,89,271  \n",
       "1      2,99,800  \n",
       "2      1,74,805  \n",
       "3      2,86,746  "
      ]
     },
     "execution_count": 3,
     "metadata": {},
     "output_type": "execute_result"
    }
   ],
   "source": [
    "df=pd.read_csv(\"RELIANCE-EQ-22-03-2024-to-29-03-2024.csv\")\n",
    "df.head()"
   ]
  },
  {
   "cell_type": "code",
   "execution_count": 4,
   "metadata": {},
   "outputs": [
    {
     "data": {
      "text/html": [
       "<div>\n",
       "<style scoped>\n",
       "    .dataframe tbody tr th:only-of-type {\n",
       "        vertical-align: middle;\n",
       "    }\n",
       "\n",
       "    .dataframe tbody tr th {\n",
       "        vertical-align: top;\n",
       "    }\n",
       "\n",
       "    .dataframe thead th {\n",
       "        text-align: right;\n",
       "    }\n",
       "</style>\n",
       "<table border=\"1\" class=\"dataframe\">\n",
       "  <thead>\n",
       "    <tr style=\"text-align: right;\">\n",
       "      <th></th>\n",
       "      <th>Date</th>\n",
       "      <th>series</th>\n",
       "      <th>OPEN</th>\n",
       "      <th>HIGH</th>\n",
       "      <th>LOW</th>\n",
       "      <th>PREV. CLOSE</th>\n",
       "      <th>ltp</th>\n",
       "      <th>close</th>\n",
       "      <th>vwap</th>\n",
       "      <th>52W H</th>\n",
       "      <th>52W L</th>\n",
       "      <th>VOLUME</th>\n",
       "      <th>VALUE</th>\n",
       "      <th>No of trades</th>\n",
       "    </tr>\n",
       "  </thead>\n",
       "  <tbody>\n",
       "    <tr>\n",
       "      <th>0</th>\n",
       "      <td>28-Mar-2024</td>\n",
       "      <td>EQ</td>\n",
       "      <td>2,985.75</td>\n",
       "      <td>3,011.90</td>\n",
       "      <td>2,957.30</td>\n",
       "      <td>2,985.70</td>\n",
       "      <td>2,970.30</td>\n",
       "      <td>2,971.70</td>\n",
       "      <td>2,988.81</td>\n",
       "      <td>3,024.90</td>\n",
       "      <td>2,220.30</td>\n",
       "      <td>1,09,27,182</td>\n",
       "      <td>32,65,92,43,942.20</td>\n",
       "      <td>2,89,271</td>\n",
       "    </tr>\n",
       "    <tr>\n",
       "      <th>1</th>\n",
       "      <td>27-Mar-2024</td>\n",
       "      <td>EQ</td>\n",
       "      <td>2,896.00</td>\n",
       "      <td>3,000.00</td>\n",
       "      <td>2,894.00</td>\n",
       "      <td>2,883.15</td>\n",
       "      <td>2,983.75</td>\n",
       "      <td>2,985.70</td>\n",
       "      <td>2,972.19</td>\n",
       "      <td>3,024.90</td>\n",
       "      <td>2,220.30</td>\n",
       "      <td>81,63,322</td>\n",
       "      <td>24,26,29,83,466.45</td>\n",
       "      <td>2,99,800</td>\n",
       "    </tr>\n",
       "    <tr>\n",
       "      <th>2</th>\n",
       "      <td>26-Mar-2024</td>\n",
       "      <td>EQ</td>\n",
       "      <td>2,890.00</td>\n",
       "      <td>2,904.80</td>\n",
       "      <td>2,878.00</td>\n",
       "      <td>2,910.05</td>\n",
       "      <td>2,886.70</td>\n",
       "      <td>2,883.15</td>\n",
       "      <td>2,887.28</td>\n",
       "      <td>3,024.90</td>\n",
       "      <td>2,220.30</td>\n",
       "      <td>57,07,953</td>\n",
       "      <td>16,48,04,30,505.15</td>\n",
       "      <td>1,74,805</td>\n",
       "    </tr>\n",
       "    <tr>\n",
       "      <th>3</th>\n",
       "      <td>22-Mar-2024</td>\n",
       "      <td>EQ</td>\n",
       "      <td>2,899.95</td>\n",
       "      <td>2,920.00</td>\n",
       "      <td>2,894.70</td>\n",
       "      <td>2,901.95</td>\n",
       "      <td>2,906.55</td>\n",
       "      <td>2,910.05</td>\n",
       "      <td>2,909.59</td>\n",
       "      <td>3,024.90</td>\n",
       "      <td>2,220.30</td>\n",
       "      <td>97,63,804</td>\n",
       "      <td>28,40,86,77,998.20</td>\n",
       "      <td>2,86,746</td>\n",
       "    </tr>\n",
       "  </tbody>\n",
       "</table>\n",
       "</div>"
      ],
      "text/plain": [
       "         Date  series      OPEN      HIGH       LOW  PREV. CLOSE       ltp   \\\n",
       "0  28-Mar-2024      EQ  2,985.75  3,011.90  2,957.30     2,985.70  2,970.30   \n",
       "1  27-Mar-2024      EQ  2,896.00  3,000.00  2,894.00     2,883.15  2,983.75   \n",
       "2  26-Mar-2024      EQ  2,890.00  2,904.80  2,878.00     2,910.05  2,886.70   \n",
       "3  22-Mar-2024      EQ  2,899.95  2,920.00  2,894.70     2,901.95  2,906.55   \n",
       "\n",
       "     close      vwap     52W H     52W L       VOLUME               VALUE   \\\n",
       "0  2,971.70  2,988.81  3,024.90  2,220.30  1,09,27,182  32,65,92,43,942.20   \n",
       "1  2,985.70  2,972.19  3,024.90  2,220.30    81,63,322  24,26,29,83,466.45   \n",
       "2  2,883.15  2,887.28  3,024.90  2,220.30    57,07,953  16,48,04,30,505.15   \n",
       "3  2,910.05  2,909.59  3,024.90  2,220.30    97,63,804  28,40,86,77,998.20   \n",
       "\n",
       "  No of trades   \n",
       "0      2,89,271  \n",
       "1      2,99,800  \n",
       "2      1,74,805  \n",
       "3      2,86,746  "
      ]
     },
     "execution_count": 4,
     "metadata": {},
     "output_type": "execute_result"
    }
   ],
   "source": [
    "df.tail()"
   ]
  },
  {
   "cell_type": "code",
   "execution_count": 5,
   "metadata": {},
   "outputs": [
    {
     "data": {
      "text/plain": [
       "0    2,971.70\n",
       "1    2,985.70\n",
       "2    2,883.15\n",
       "3    2,910.05\n",
       "Name: close , dtype: object"
      ]
     },
     "execution_count": 5,
     "metadata": {},
     "output_type": "execute_result"
    }
   ],
   "source": [
    "df['close ']\n"
   ]
  },
  {
   "cell_type": "code",
   "execution_count": 6,
   "metadata": {},
   "outputs": [
    {
     "name": "stdout",
     "output_type": "stream",
     "text": [
      "<class 'pandas.core.frame.DataFrame'>\n",
      "RangeIndex: 4 entries, 0 to 3\n",
      "Data columns (total 14 columns):\n",
      " #   Column         Non-Null Count  Dtype \n",
      "---  ------         --------------  ----- \n",
      " 0   Date           4 non-null      object\n",
      " 1   series         4 non-null      object\n",
      " 2   OPEN           4 non-null      object\n",
      " 3   HIGH           4 non-null      object\n",
      " 4   LOW            4 non-null      object\n",
      " 5   PREV. CLOSE    4 non-null      object\n",
      " 6   ltp            4 non-null      object\n",
      " 7   close          4 non-null      object\n",
      " 8   vwap           4 non-null      object\n",
      " 9   52W H          4 non-null      object\n",
      " 10  52W L          4 non-null      object\n",
      " 11  VOLUME         4 non-null      object\n",
      " 12  VALUE          4 non-null      object\n",
      " 13  No of trades   4 non-null      object\n",
      "dtypes: object(14)\n",
      "memory usage: 580.0+ bytes\n"
     ]
    }
   ],
   "source": [
    "df.info()"
   ]
  },
  {
   "cell_type": "code",
   "execution_count": 22,
   "metadata": {},
   "outputs": [
    {
     "name": "stdout",
     "output_type": "stream",
     "text": [
      "<class 'pandas.core.frame.DataFrame'>\n",
      "RangeIndex: 4 entries, 0 to 3\n",
      "Data columns (total 14 columns):\n",
      " #   Column         Non-Null Count  Dtype \n",
      "---  ------         --------------  ----- \n",
      " 0   Date           4 non-null      string\n",
      " 1   series         4 non-null      string\n",
      " 2   OPEN           4 non-null      string\n",
      " 3   HIGH           4 non-null      string\n",
      " 4   LOW            4 non-null      string\n",
      " 5   PREV. CLOSE    4 non-null      string\n",
      " 6   ltp            4 non-null      string\n",
      " 7   close          4 non-null      string\n",
      " 8   vwap           4 non-null      string\n",
      " 9   52W H          4 non-null      string\n",
      " 10  52W L          4 non-null      string\n",
      " 11  VOLUME         4 non-null      string\n",
      " 12  VALUE          4 non-null      string\n",
      " 13  No of trades   4 non-null      string\n",
      "dtypes: string(14)\n",
      "memory usage: 580.0 bytes\n"
     ]
    }
   ],
   "source": [
    "newdf = df.convert_dtypes()\n",
    "newdf.info()"
   ]
  },
  {
   "cell_type": "code",
   "execution_count": 41,
   "metadata": {},
   "outputs": [
    {
     "data": {
      "text/plain": [
       "0    2971.70\n",
       "1    2985.70\n",
       "2    2883.15\n",
       "3    2910.05\n",
       "Name: close , dtype: object"
      ]
     },
     "execution_count": 41,
     "metadata": {},
     "output_type": "execute_result"
    }
   ],
   "source": [
    "# newdf['close ']=newdf['close '].astype(float)\n",
    "newdf1=newdf['close '].apply(lambda x:x.replace(\",\",\"\"))\n",
    "newdf1\n"
   ]
  },
  {
   "cell_type": "code",
   "execution_count": 42,
   "metadata": {},
   "outputs": [
    {
     "data": {
      "text/plain": [
       "0    2971.70\n",
       "1    2985.70\n",
       "2    2883.15\n",
       "3    2910.05\n",
       "Name: close , dtype: float64"
      ]
     },
     "execution_count": 42,
     "metadata": {},
     "output_type": "execute_result"
    }
   ],
   "source": [
    "newdf1=newdf1.astype(float)\n",
    "newdf1"
   ]
  },
  {
   "cell_type": "code",
   "execution_count": 43,
   "metadata": {},
   "outputs": [
    {
     "name": "stdout",
     "output_type": "stream",
     "text": [
      "<class 'pandas.core.frame.DataFrame'>\n",
      "RangeIndex: 4 entries, 0 to 3\n",
      "Data columns (total 15 columns):\n",
      " #   Column         Non-Null Count  Dtype  \n",
      "---  ------         --------------  -----  \n",
      " 0   Date           4 non-null      object \n",
      " 1   series         4 non-null      object \n",
      " 2   OPEN           4 non-null      object \n",
      " 3   HIGH           4 non-null      object \n",
      " 4   LOW            4 non-null      object \n",
      " 5   PREV. CLOSE    4 non-null      object \n",
      " 6   ltp            4 non-null      object \n",
      " 7   close          4 non-null      float64\n",
      " 8   vwap           4 non-null      object \n",
      " 9   52W H          4 non-null      object \n",
      " 10  52W L          4 non-null      object \n",
      " 11  VOLUME         4 non-null      object \n",
      " 12  VALUE          4 non-null      object \n",
      " 13  No of trades   4 non-null      object \n",
      " 14  MA 20          0 non-null      float64\n",
      "dtypes: float64(2), object(13)\n",
      "memory usage: 612.0+ bytes\n"
     ]
    }
   ],
   "source": [
    "df['close ']=newdf1\n",
    "df.info()"
   ]
  },
  {
   "cell_type": "code",
   "execution_count": 44,
   "metadata": {},
   "outputs": [],
   "source": [
    "df['MA 20']=ta.MA(df['close '],timeperiod=2)"
   ]
  },
  {
   "cell_type": "code",
   "execution_count": 45,
   "metadata": {},
   "outputs": [
    {
     "name": "stdout",
     "output_type": "stream",
     "text": [
      "0         NaN\n",
      "1    2978.700\n",
      "2    2934.425\n",
      "3    2896.600\n",
      "dtype: float64\n"
     ]
    }
   ],
   "source": [
    "# df['MA 20']\n",
    "print(ta.MA(df['close '],timeperiod=2))"
   ]
  },
  {
   "cell_type": "code",
   "execution_count": null,
   "metadata": {},
   "outputs": [],
   "source": [
    "df['RSI_9']=ta.RSI(df['close '],timeperiod=9)\n"
   ]
  },
  {
   "cell_type": "code",
   "execution_count": null,
   "metadata": {},
   "outputs": [],
   "source": []
  }
 ],
 "metadata": {
  "kernelspec": {
   "display_name": "Python 3",
   "language": "python",
   "name": "python3"
  },
  "language_info": {
   "codemirror_mode": {
    "name": "ipython",
    "version": 3
   },
   "file_extension": ".py",
   "mimetype": "text/x-python",
   "name": "python",
   "nbconvert_exporter": "python",
   "pygments_lexer": "ipython3",
   "version": "3.12.1"
  }
 },
 "nbformat": 4,
 "nbformat_minor": 2
}
