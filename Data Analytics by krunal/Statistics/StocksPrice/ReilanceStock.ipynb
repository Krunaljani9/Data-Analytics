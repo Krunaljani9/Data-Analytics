{
 "cells": [
  {
   "cell_type": "code",
   "execution_count": 1,
   "metadata": {},
   "outputs": [],
   "source": [
    "import datetime as dt\n",
    "import talib as ta\n",
    "import numpy as np\n",
    "import matplotlib.pyplot as plt\n",
    "import pandas_datareader as web\n",
    "import pandas as pd"
   ]
  },
  {
   "cell_type": "code",
   "execution_count": 4,
   "metadata": {},
   "outputs": [
    {
     "data": {
      "text/html": [
       "<div>\n",
       "<style scoped>\n",
       "    .dataframe tbody tr th:only-of-type {\n",
       "        vertical-align: middle;\n",
       "    }\n",
       "\n",
       "    .dataframe tbody tr th {\n",
       "        vertical-align: top;\n",
       "    }\n",
       "\n",
       "    .dataframe thead th {\n",
       "        text-align: right;\n",
       "    }\n",
       "</style>\n",
       "<table border=\"1\" class=\"dataframe\">\n",
       "  <thead>\n",
       "    <tr style=\"text-align: right;\">\n",
       "      <th></th>\n",
       "      <th>Date</th>\n",
       "      <th>Open</th>\n",
       "      <th>High</th>\n",
       "      <th>Low</th>\n",
       "      <th>Close</th>\n",
       "      <th>Adj Close</th>\n",
       "      <th>Volume</th>\n",
       "    </tr>\n",
       "  </thead>\n",
       "  <tbody>\n",
       "    <tr>\n",
       "      <th>0</th>\n",
       "      <td>2023-04-03</td>\n",
       "      <td>2164.434326</td>\n",
       "      <td>2168.126221</td>\n",
       "      <td>2136.744141</td>\n",
       "      <td>2151.927490</td>\n",
       "      <td>2144.352783</td>\n",
       "      <td>5146521</td>\n",
       "    </tr>\n",
       "    <tr>\n",
       "      <th>1</th>\n",
       "      <td>2023-04-05</td>\n",
       "      <td>2167.203125</td>\n",
       "      <td>2167.203125</td>\n",
       "      <td>2130.791016</td>\n",
       "      <td>2146.758789</td>\n",
       "      <td>2139.202148</td>\n",
       "      <td>8131464</td>\n",
       "    </tr>\n",
       "    <tr>\n",
       "      <th>2</th>\n",
       "      <td>2023-04-06</td>\n",
       "      <td>2139.651611</td>\n",
       "      <td>2172.741211</td>\n",
       "      <td>2139.651611</td>\n",
       "      <td>2161.157471</td>\n",
       "      <td>2153.550049</td>\n",
       "      <td>9217523</td>\n",
       "    </tr>\n",
       "    <tr>\n",
       "      <th>3</th>\n",
       "      <td>2023-04-10</td>\n",
       "      <td>2169.049316</td>\n",
       "      <td>2169.418457</td>\n",
       "      <td>2142.789795</td>\n",
       "      <td>2145.835693</td>\n",
       "      <td>2138.282227</td>\n",
       "      <td>6480704</td>\n",
       "    </tr>\n",
       "    <tr>\n",
       "      <th>4</th>\n",
       "      <td>2023-04-11</td>\n",
       "      <td>2154.281250</td>\n",
       "      <td>2160.742188</td>\n",
       "      <td>2145.097412</td>\n",
       "      <td>2156.450195</td>\n",
       "      <td>2148.859375</td>\n",
       "      <td>5271183</td>\n",
       "    </tr>\n",
       "  </tbody>\n",
       "</table>\n",
       "</div>"
      ],
      "text/plain": [
       "         Date         Open         High          Low        Close  \\\n",
       "0  2023-04-03  2164.434326  2168.126221  2136.744141  2151.927490   \n",
       "1  2023-04-05  2167.203125  2167.203125  2130.791016  2146.758789   \n",
       "2  2023-04-06  2139.651611  2172.741211  2139.651611  2161.157471   \n",
       "3  2023-04-10  2169.049316  2169.418457  2142.789795  2145.835693   \n",
       "4  2023-04-11  2154.281250  2160.742188  2145.097412  2156.450195   \n",
       "\n",
       "     Adj Close   Volume  \n",
       "0  2144.352783  5146521  \n",
       "1  2139.202148  8131464  \n",
       "2  2153.550049  9217523  \n",
       "3  2138.282227  6480704  \n",
       "4  2148.859375  5271183  "
      ]
     },
     "execution_count": 4,
     "metadata": {},
     "output_type": "execute_result"
    }
   ],
   "source": [
    "df=pd.read_csv(\"RELIANCE.csv\")\n",
    "df.head()"
   ]
  },
  {
   "cell_type": "code",
   "execution_count": 5,
   "metadata": {},
   "outputs": [
    {
     "data": {
      "text/html": [
       "<div>\n",
       "<style scoped>\n",
       "    .dataframe tbody tr th:only-of-type {\n",
       "        vertical-align: middle;\n",
       "    }\n",
       "\n",
       "    .dataframe tbody tr th {\n",
       "        vertical-align: top;\n",
       "    }\n",
       "\n",
       "    .dataframe thead th {\n",
       "        text-align: right;\n",
       "    }\n",
       "</style>\n",
       "<table border=\"1\" class=\"dataframe\">\n",
       "  <thead>\n",
       "    <tr style=\"text-align: right;\">\n",
       "      <th></th>\n",
       "      <th>Date</th>\n",
       "      <th>Open</th>\n",
       "      <th>High</th>\n",
       "      <th>Low</th>\n",
       "      <th>Close</th>\n",
       "      <th>Adj Close</th>\n",
       "      <th>Volume</th>\n",
       "    </tr>\n",
       "  </thead>\n",
       "  <tbody>\n",
       "    <tr>\n",
       "      <th>239</th>\n",
       "      <td>2024-03-22</td>\n",
       "      <td>2899.949951</td>\n",
       "      <td>2920.000000</td>\n",
       "      <td>2894.699951</td>\n",
       "      <td>2910.050049</td>\n",
       "      <td>2910.050049</td>\n",
       "      <td>9763804</td>\n",
       "    </tr>\n",
       "    <tr>\n",
       "      <th>240</th>\n",
       "      <td>2024-03-26</td>\n",
       "      <td>2890.000000</td>\n",
       "      <td>2904.800049</td>\n",
       "      <td>2878.000000</td>\n",
       "      <td>2883.149902</td>\n",
       "      <td>2883.149902</td>\n",
       "      <td>5707953</td>\n",
       "    </tr>\n",
       "    <tr>\n",
       "      <th>241</th>\n",
       "      <td>2024-03-27</td>\n",
       "      <td>2896.000000</td>\n",
       "      <td>3000.000000</td>\n",
       "      <td>2894.000000</td>\n",
       "      <td>2985.699951</td>\n",
       "      <td>2985.699951</td>\n",
       "      <td>8163322</td>\n",
       "    </tr>\n",
       "    <tr>\n",
       "      <th>242</th>\n",
       "      <td>2024-03-28</td>\n",
       "      <td>2985.750000</td>\n",
       "      <td>3011.899902</td>\n",
       "      <td>2957.300049</td>\n",
       "      <td>2971.699951</td>\n",
       "      <td>2971.699951</td>\n",
       "      <td>10927182</td>\n",
       "    </tr>\n",
       "    <tr>\n",
       "      <th>243</th>\n",
       "      <td>2024-04-01</td>\n",
       "      <td>2984.949951</td>\n",
       "      <td>2987.949951</td>\n",
       "      <td>2965.000000</td>\n",
       "      <td>2969.550049</td>\n",
       "      <td>2969.550049</td>\n",
       "      <td>2505457</td>\n",
       "    </tr>\n",
       "  </tbody>\n",
       "</table>\n",
       "</div>"
      ],
      "text/plain": [
       "           Date         Open         High          Low        Close  \\\n",
       "239  2024-03-22  2899.949951  2920.000000  2894.699951  2910.050049   \n",
       "240  2024-03-26  2890.000000  2904.800049  2878.000000  2883.149902   \n",
       "241  2024-03-27  2896.000000  3000.000000  2894.000000  2985.699951   \n",
       "242  2024-03-28  2985.750000  3011.899902  2957.300049  2971.699951   \n",
       "243  2024-04-01  2984.949951  2987.949951  2965.000000  2969.550049   \n",
       "\n",
       "       Adj Close    Volume  \n",
       "239  2910.050049   9763804  \n",
       "240  2883.149902   5707953  \n",
       "241  2985.699951   8163322  \n",
       "242  2971.699951  10927182  \n",
       "243  2969.550049   2505457  "
      ]
     },
     "execution_count": 5,
     "metadata": {},
     "output_type": "execute_result"
    }
   ],
   "source": [
    "df.tail()"
   ]
  },
  {
   "cell_type": "code",
   "execution_count": 6,
   "metadata": {},
   "outputs": [
    {
     "data": {
      "text/plain": [
       "0      2151.927490\n",
       "1      2146.758789\n",
       "2      2161.157471\n",
       "3      2145.835693\n",
       "4      2156.450195\n",
       "          ...     \n",
       "239    2910.050049\n",
       "240    2883.149902\n",
       "241    2985.699951\n",
       "242    2971.699951\n",
       "243    2969.550049\n",
       "Name: Close, Length: 244, dtype: float64"
      ]
     },
     "execution_count": 6,
     "metadata": {},
     "output_type": "execute_result"
    }
   ],
   "source": [
    "df['Close']"
   ]
  },
  {
   "cell_type": "code",
   "execution_count": 7,
   "metadata": {},
   "outputs": [
    {
     "name": "stdout",
     "output_type": "stream",
     "text": [
      "<class 'pandas.core.frame.DataFrame'>\n",
      "RangeIndex: 244 entries, 0 to 243\n",
      "Data columns (total 7 columns):\n",
      " #   Column     Non-Null Count  Dtype  \n",
      "---  ------     --------------  -----  \n",
      " 0   Date       244 non-null    object \n",
      " 1   Open       244 non-null    float64\n",
      " 2   High       244 non-null    float64\n",
      " 3   Low        244 non-null    float64\n",
      " 4   Close      244 non-null    float64\n",
      " 5   Adj Close  244 non-null    float64\n",
      " 6   Volume     244 non-null    int64  \n",
      "dtypes: float64(5), int64(1), object(1)\n",
      "memory usage: 13.5+ KB\n"
     ]
    }
   ],
   "source": [
    "df.info()"
   ]
  },
  {
   "cell_type": "code",
   "execution_count": 9,
   "metadata": {},
   "outputs": [
    {
     "data": {
      "text/plain": [
       "0              NaN\n",
       "1              NaN\n",
       "2              NaN\n",
       "3              NaN\n",
       "4              NaN\n",
       "          ...     \n",
       "239    2930.305005\n",
       "240    2925.100000\n",
       "241    2925.652502\n",
       "242    2925.672498\n",
       "243    2928.587500\n",
       "Name: MA_20, Length: 244, dtype: float64"
      ]
     },
     "execution_count": 9,
     "metadata": {},
     "output_type": "execute_result"
    }
   ],
   "source": [
    "df['MA_20']=ta.MA(df['Close'],timeperiod=20)\n",
    "df['MA_20']"
   ]
  },
  {
   "cell_type": "code",
   "execution_count": 11,
   "metadata": {},
   "outputs": [
    {
     "data": {
      "text/plain": [
       "0            NaN\n",
       "1            NaN\n",
       "2            NaN\n",
       "3            NaN\n",
       "4            NaN\n",
       "         ...    \n",
       "239    50.771443\n",
       "240    45.108852\n",
       "241    62.869540\n",
       "242    59.893218\n",
       "243    59.407345\n",
       "Name: RSI_9, Length: 244, dtype: float64"
      ]
     },
     "execution_count": 11,
     "metadata": {},
     "output_type": "execute_result"
    }
   ],
   "source": [
    "df['RSI_9']=ta.RSI(df['Close'],timeperiod=9)\n",
    "df['RSI_9']"
   ]
  },
  {
   "cell_type": "code",
   "execution_count": 16,
   "metadata": {},
   "outputs": [
    {
     "data": {
      "text/plain": [
       "(0              NaN\n",
       " 1              NaN\n",
       " 2              NaN\n",
       " 3              NaN\n",
       " 4              NaN\n",
       "           ...     \n",
       " 239    3038.894715\n",
       " 240    3032.242573\n",
       " 241    3033.919498\n",
       " 242    3033.973349\n",
       " 243    3038.307743\n",
       " Name: upper, Length: 244, dtype: float64,\n",
       " 0              NaN\n",
       " 1              NaN\n",
       " 2              NaN\n",
       " 3              NaN\n",
       " 4              NaN\n",
       "           ...     \n",
       " 239    2930.305005\n",
       " 240    2925.100000\n",
       " 241    2925.652502\n",
       " 242    2925.672498\n",
       " 243    2928.587500\n",
       " Name: middle, Length: 244, dtype: float64,\n",
       " 0              NaN\n",
       " 1              NaN\n",
       " 2              NaN\n",
       " 3              NaN\n",
       " 4              NaN\n",
       "           ...     \n",
       " 239    2821.715295\n",
       " 240    2817.957427\n",
       " 241    2817.385507\n",
       " 242    2817.371646\n",
       " 243    2818.867257\n",
       " Name: lower, Length: 244, dtype: float64)"
      ]
     },
     "execution_count": 16,
     "metadata": {},
     "output_type": "execute_result"
    }
   ],
   "source": [
    "df['upper'],df['middle'],df['lower']=ta.BBANDS(df['Close'],timeperiod=20)\n",
    "df['upper'],df['middle'],df['lower']"
   ]
  },
  {
   "cell_type": "code",
   "execution_count": 17,
   "metadata": {},
   "outputs": [
    {
     "name": "stdout",
     "output_type": "stream",
     "text": [
      "0      0\n",
      "1      0\n",
      "2      0\n",
      "3      0\n",
      "4      0\n",
      "      ..\n",
      "239    0\n",
      "240    0\n",
      "241    0\n",
      "242    0\n",
      "243    0\n",
      "Length: 244, dtype: int32\n"
     ]
    }
   ],
   "source": [
    "print(ta.CDLDOJI(df['Open'],df['High'],df['Low'],df['Close']))"
   ]
  },
  {
   "cell_type": "code",
   "execution_count": 18,
   "metadata": {},
   "outputs": [],
   "source": [
    "import pandas_ta as pta\n"
   ]
  },
  {
   "cell_type": "code",
   "execution_count": 22,
   "metadata": {},
   "outputs": [
    {
     "data": {
      "text/plain": [
       "0         0.000000\n",
       "1              NaN\n",
       "2              NaN\n",
       "3              NaN\n",
       "4              NaN\n",
       "          ...     \n",
       "239    3013.790139\n",
       "240    3011.630212\n",
       "241    3011.630212\n",
       "242    3011.630212\n",
       "243    3011.630212\n",
       "Name: Supertrend, Length: 244, dtype: float64"
      ]
     },
     "execution_count": 22,
     "metadata": {},
     "output_type": "execute_result"
    }
   ],
   "source": [
    "df['Supertrend']=pta.supertrend(df['High'],df['Low'],df['Close'],length=5,multiplier=3)['SUPERT_5_3.0']\n",
    "df['Supertrend']"
   ]
  }
 ],
 "metadata": {
  "kernelspec": {
   "display_name": "Python 3",
   "language": "python",
   "name": "python3"
  },
  "language_info": {
   "codemirror_mode": {
    "name": "ipython",
    "version": 3
   },
   "file_extension": ".py",
   "mimetype": "text/x-python",
   "name": "python",
   "nbconvert_exporter": "python",
   "pygments_lexer": "ipython3",
   "version": "3.12.1"
  }
 },
 "nbformat": 4,
 "nbformat_minor": 2
}
