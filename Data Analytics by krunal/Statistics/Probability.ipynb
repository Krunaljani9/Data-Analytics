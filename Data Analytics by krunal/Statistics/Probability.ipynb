{
 "cells": [
  {
   "cell_type": "markdown",
   "metadata": {},
   "source": [
    "### Probability \n",
    "\n",
    "what is probability of flipping a coin 10 times and it landing on heads 6 times or more"
   ]
  },
  {
   "cell_type": "code",
   "execution_count": 29,
   "metadata": {},
   "outputs": [
    {
     "name": "stdout",
     "output_type": "stream",
     "text": [
      "Num  0\n",
      "Num  0\n",
      "Num  0\n",
      "Num  0\n",
      "Num  1\n",
      "Num  1\n",
      "Num  0\n",
      "Num  1\n",
      "Num  0\n",
      "Num  1\n",
      "Num  1\n",
      "Num  0\n",
      "Num  1\n",
      "Num  1\n",
      "Num  0\n",
      "success count  2\n",
      "Number of Iteration  3\n",
      "probability Ratio  0.6666666666666666\n"
     ]
    }
   ],
   "source": [
    "import random\n",
    "def test():\n",
    "    \"\"\"\n",
    "    Head=1\n",
    "    tail=0\n",
    "    \n",
    "    \"\"\"\n",
    "    num_of_head=0\n",
    "    for flip in range(5):\n",
    "        a=random.randint(0,1)\n",
    "        num_of_head=num_of_head+a\n",
    "        print(\"Num \",int(a))\n",
    "    return (num_of_head>=3)\n",
    "\n",
    "def excercise(n):\n",
    "    success=0\n",
    "    for t in range(n):\n",
    "        success+=int(test())\n",
    "    print(\"success count \",success)\n",
    "    print(\"Number of Iteration \",n)\n",
    "    print(\"probability Ratio \",success/n)\n",
    "    \n",
    "excercise(3)"
   ]
  }
 ],
 "metadata": {
  "kernelspec": {
   "display_name": "Python 3",
   "language": "python",
   "name": "python3"
  },
  "language_info": {
   "codemirror_mode": {
    "name": "ipython",
    "version": 3
   },
   "file_extension": ".py",
   "mimetype": "text/x-python",
   "name": "python",
   "nbconvert_exporter": "python",
   "pygments_lexer": "ipython3",
   "version": "3.12.1"
  }
 },
 "nbformat": 4,
 "nbformat_minor": 2
}
