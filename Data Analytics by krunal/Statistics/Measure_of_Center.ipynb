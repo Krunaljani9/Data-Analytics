{
  "cells": [
    {
      "cell_type": "markdown",
      "metadata": {
        "colab_type": "text",
        "id": "gmHVVuCdiHnl"
      },
      "source": [
        "# Measure of Center\n",
        "\n",
        "---\n",
        "\n"
      ]
    },
    {
      "cell_type": "code",
      "execution_count": 4,
      "metadata": {
        "colab": {},
        "colab_type": "code",
        "id": "Cs6hAcU2h5NT"
      },
      "outputs": [],
      "source": [
        "import numpy as np\n",
        "x=[2,4,6,7,20,10,22]\n",
        "y=np.array(x)"
      ]
    },
    {
      "cell_type": "markdown",
      "metadata": {
        "colab_type": "text",
        "id": "v0B8j5IsiDL7"
      },
      "source": [
        "# Mean:\n",
        "\n",
        "---\n",
        "\n"
      ]
    },
    {
      "cell_type": "code",
      "execution_count": 6,
      "metadata": {
        "colab": {
          "base_uri": "https://localhost:8080/",
          "height": 34
        },
        "colab_type": "code",
        "id": "oYOWjwMviCLm",
        "outputId": "1a7c27be-63e3-4423-cfad-da76e679bf10"
      },
      "outputs": [
        {
          "name": "stdout",
          "output_type": "stream",
          "text": [
            "Mean is :  10.142857142857142\n"
          ]
        }
      ],
      "source": [
        "print(\"Mean is : \",round(y.mean(),2))"
      ]
    },
    {
      "cell_type": "markdown",
      "metadata": {
        "colab_type": "text",
        "id": "0IpYCciHiQKX"
      },
      "source": [
        "# Median:\n",
        "\n",
        "---\n",
        "\n"
      ]
    },
    {
      "cell_type": "code",
      "execution_count": 32,
      "metadata": {
        "colab": {
          "base_uri": "https://localhost:8080/",
          "height": 34
        },
        "colab_type": "code",
        "id": "ZRjbvMUoiM9U",
        "outputId": "4ee89fc5-f940-4595-afd3-d95b90ac2663"
      },
      "outputs": [
        {
          "name": "stdout",
          "output_type": "stream",
          "text": [
            "Median is :  6.5\n"
          ]
        }
      ],
      "source": [
        "a=[2,4,6,7,20,10]\n",
        "b=np.array(a)\n",
        "print(\"Median is : \",np.median(b))"
      ]
    },
    {
      "cell_type": "markdown",
      "metadata": {
        "colab_type": "text",
        "id": "Q3hBUZmEiYCh"
      },
      "source": [
        "# Mode:\n",
        "\n",
        "---\n"
      ]
    },
    {
      "cell_type": "code",
      "execution_count": 33,
      "metadata": {
        "colab": {
          "base_uri": "https://localhost:8080/",
          "height": 34
        },
        "colab_type": "code",
        "id": "k-wIC7j_iPdR",
        "outputId": "1cb99ae2-a249-4b9a-ab13-f344cd7dc583"
      },
      "outputs": [
        {
          "name": "stdout",
          "output_type": "stream",
          "text": [
            "Mode is: 3\n"
          ]
        }
      ],
      "source": [
        "from statistics import mode\n",
        "print(\"Mode is:\",mode([1, 1, 2, 3, 3, 3, 3, 4]))"
      ]
    }
  ],
  "metadata": {
    "colab": {
      "name": "Measure_of_Center.ipynb",
      "provenance": [],
      "version": "0.3.2"
    },
    "kernelspec": {
      "display_name": "Python 3",
      "name": "python3"
    },
    "language_info": {
      "codemirror_mode": {
        "name": "ipython",
        "version": 3
      },
      "file_extension": ".py",
      "mimetype": "text/x-python",
      "name": "python",
      "nbconvert_exporter": "python",
      "pygments_lexer": "ipython3",
      "version": "3.12.1"
    }
  },
  "nbformat": 4,
  "nbformat_minor": 0
}
