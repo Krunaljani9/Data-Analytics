{
 "cells": [
  {
   "cell_type": "code",
   "execution_count": 6,
   "metadata": {},
   "outputs": [
    {
     "name": "stdout",
     "output_type": "stream",
     "text": [
      "     car  passings\n",
      "0    BMW         3\n",
      "1  Volvo         7\n",
      "2   Ford         2\n"
     ]
    }
   ],
   "source": [
    "import pandas\n",
    "mydataset = { 'car' : [\"BMW\", \"Volvo\", \"Ford\"], 'passings': [3, 7, 2] } \n",
    "cardataset= pandas.DataFrame(mydataset) \n",
    "print(cardataset)"
   ]
  },
  {
   "cell_type": "code",
   "execution_count": null,
   "metadata": {},
   "outputs": [],
   "source": []
  },
  {
   "cell_type": "code",
   "execution_count": 2,
   "metadata": {},
   "outputs": [
    {
     "name": "stdout",
     "output_type": "stream",
     "text": [
      "    cars  passings\n",
      "0    BMW         3\n",
      "1  Volvo         7\n",
      "2   Ford         2\n",
      "2.2.1\n"
     ]
    }
   ],
   "source": [
    "import pandas as pd\n",
    "mydataset = { 'cars': [\"BMW\", \"Volvo\", \"Ford\"], 'passings': [3, 7, 2] }\n",
    "myvar = pd.DataFrame(mydataset) \n",
    "print(myvar) \n",
    "print(pd.__version__)"
   ]
  },
  {
   "cell_type": "code",
   "execution_count": 8,
   "metadata": {},
   "outputs": [
    {
     "name": "stdout",
     "output_type": "stream",
     "text": [
      "0     1\n",
      "1     7\n",
      "2     2\n",
      "3    20\n",
      "4    50\n",
      "dtype: int64\n",
      "20\n"
     ]
    }
   ],
   "source": [
    "import pandas as pd \n",
    "a = [1, 7, 2, 20, 50]\n",
    "myvar = pd.Series(a) \n",
    "print(myvar)\n",
    "print(myvar[3])"
   ]
  },
  {
   "cell_type": "code",
   "execution_count": 7,
   "metadata": {},
   "outputs": [
    {
     "name": "stdout",
     "output_type": "stream",
     "text": [
      "x    1\n",
      "y    7\n",
      "z    2\n",
      "dtype: int64\n",
      "7\n"
     ]
    }
   ],
   "source": [
    "import pandas as pd\n",
    "a = [1, 7, 2] \n",
    "myvar = pd.Series(a, index = [\"x\", \"y\", \"z\"]) \n",
    "print(myvar)\n",
    "print(myvar[\"y\"])"
   ]
  },
  {
   "cell_type": "code",
   "execution_count": 9,
   "metadata": {},
   "outputs": [
    {
     "name": "stdout",
     "output_type": "stream",
     "text": [
      "day1    420\n",
      "day2    380\n",
      "day3    390\n",
      "dtype: int64\n"
     ]
    }
   ],
   "source": [
    "import pandas as pd\n",
    "calories = {\"day1\": 420, \"day2\": 380, \"day3\": 390}\n",
    "myvar = pd.Series(calories)\n",
    "print(myvar)"
   ]
  },
  {
   "cell_type": "code",
   "execution_count": 10,
   "metadata": {},
   "outputs": [
    {
     "name": "stdout",
     "output_type": "stream",
     "text": [
      "   calories  duration\n",
      "0       420        50\n",
      "1       380        40\n",
      "2       390        45\n"
     ]
    }
   ],
   "source": [
    "import pandas as pd \n",
    "data = { \"calories\": [420, 380, 390], \"duration\": [50, 40, 45] } \n",
    "myvar = pd.DataFrame(data) \n",
    "print(myvar)"
   ]
  },
  {
   "cell_type": "code",
   "execution_count": 13,
   "metadata": {},
   "outputs": [
    {
     "name": "stdout",
     "output_type": "stream",
     "text": [
      "   calories  duration\n",
      "0       420        50\n",
      "1       380        40\n",
      "2       390        45\n",
      "calories    420\n",
      "duration     50\n",
      "Name: 0, dtype: int64\n"
     ]
    }
   ],
   "source": [
    "import pandas as pd \n",
    "data = { \"calories\": [420, 380, 390], \"duration\": [50, 40, 45] } \n",
    "#load data into a DataFrame object: \n",
    "df = pd.DataFrame(data)\n",
    "print(df)\n",
    "#refer to the row index :\n",
    "print(df.loc[0])"
   ]
  },
  {
   "cell_type": "code",
   "execution_count": 1,
   "metadata": {},
   "outputs": [
    {
     "name": "stdout",
     "output_type": "stream",
     "text": [
      "      calories  duration\n",
      "day1       420        50\n",
      "day2       380        40\n",
      "day3       390        45\n"
     ]
    }
   ],
   "source": [
    "import pandas as pd \n",
    "data = { \"calories\": [420, 380, 390], \"duration\": [50, 40, 45] } \n",
    "df = pd.DataFrame(data, index = [\"day1\", \"day2\", \"day3\"]) \n",
    "print(df)"
   ]
  },
  {
   "cell_type": "code",
   "execution_count": 12,
   "metadata": {},
   "outputs": [
    {
     "name": "stdout",
     "output_type": "stream",
     "text": [
      "     pizza_id pizza_type_id size  price\n",
      "0   bbq_ckn_s       bbq_ckn    S  12.75\n",
      "1   bbq_ckn_m       bbq_ckn    M  16.75\n",
      "2   bbq_ckn_l       bbq_ckn    L  20.75\n",
      "3  cali_ckn_s      cali_ckn    S  12.75\n",
      "4  cali_ckn_m      cali_ckn    M  16.75\n"
     ]
    }
   ],
   "source": [
    "import pandas as pd \n",
    "df = pd.read_csv('pizzas.csv')\n",
    "#print(df.to_string())\n",
    "print(df.head())"
   ]
  }
 ],
 "metadata": {
  "kernelspec": {
   "display_name": "Python 3",
   "language": "python",
   "name": "python3"
  },
  "language_info": {
   "codemirror_mode": {
    "name": "ipython",
    "version": 3
   },
   "file_extension": ".py",
   "mimetype": "text/x-python",
   "name": "python",
   "nbconvert_exporter": "python",
   "pygments_lexer": "ipython3",
   "version": "3.12.1"
  }
 },
 "nbformat": 4,
 "nbformat_minor": 2
}
